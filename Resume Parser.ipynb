{
  "nbformat": 4,
  "nbformat_minor": 0,
  "metadata": {
    "colab": {
      "name": "Resume_NER_Final.ipynb",
      "provenance": [],
      "collapsed_sections": []
    },
    "kernelspec": {
      "name": "python3",
      "display_name": "Python 3"
    },
    "language_info": {
      "name": "python"
    }
  },
  "cells": [
    {
      "cell_type": "markdown",
      "source": [
        "<H1>Resume Parser</H1>\n",
        "<img src=\"https://cdn-dcklf.nitrocdn.com/dvFWjbaNIYCTKBUPoLoJwuqwNdymMqps/assets/static/optimized/rev-4efc3e8/wp-content/uploads/2018/08/1513589398.jpg\" alt=\"Resume\"\n",
        " width=\"500\" \n",
        "height=\"300\">\n",
        "\n",
        "Dataset information: https://www.kaggle.com/datasets/dataturks/resume-entities-for-ner\n",
        "\n",
        "Goal: Apply NER Model to parse a given resume "
      ],
      "metadata": {
        "id": "24a0Hrbk4zBM"
      }
    },
    {
      "cell_type": "markdown",
      "source": [
        "<h1> Import Dataset </h1>"
      ],
      "metadata": {
        "id": "k0nkTY01bTe1"
      }
    },
    {
      "cell_type": "code",
      "execution_count": null,
      "metadata": {
        "id": "52os5sa287W8",
        "colab": {
          "base_uri": "https://localhost:8080/"
        },
        "outputId": "612217ff-78c1-46ff-9b08-9f67188ecc73"
      },
      "outputs": [
        {
          "output_type": "stream",
          "name": "stdout",
          "text": [
            "Mounted at /content/drive/\n"
          ]
        }
      ],
      "source": [
        "#importing Google Drive \n",
        "from google.colab import drive\n",
        "drive.mount('/content/drive/')"
      ]
    },
    {
      "cell_type": "code",
      "source": [
        "import pandas as pd"
      ],
      "metadata": {
        "id": "rRgmqkew-jaP"
      },
      "execution_count": null,
      "outputs": []
    },
    {
      "cell_type": "code",
      "source": [
        "df = pd.read_json('/content/drive/My Drive/Resume_NER.json', lines=True)"
      ],
      "metadata": {
        "id": "wp83cTCN8-2s"
      },
      "execution_count": null,
      "outputs": []
    },
    {
      "cell_type": "code",
      "source": [
        "df.head()"
      ],
      "metadata": {
        "id": "o8NX5vF59YGr",
        "colab": {
          "base_uri": "https://localhost:8080/",
          "height": 206
        },
        "outputId": "158f1d39-4b68-4ee9-9325-41b1b361d31f"
      },
      "execution_count": null,
      "outputs": [
        {
          "output_type": "execute_result",
          "data": {
            "text/plain": [
              "                                             content  \\\n",
              "0  Abhishek Jha\\nApplication Development Associat...   \n",
              "1  Afreen Jamadar\\nActive member of IIIT Committe...   \n",
              "2  Akhil Yadav Polemaina\\nHyderabad, Telangana - ...   \n",
              "3  Alok Khandai\\nOperational Analyst (SQL DBA) En...   \n",
              "4  Ananya Chavan\\nlecturer - oracle tutorials\\n\\n...   \n",
              "\n",
              "                                          annotation  extras  \n",
              "0  [{'label': ['Skills'], 'points': [{'start': 12...     NaN  \n",
              "1  [{'label': ['Email Address'], 'points': [{'sta...     NaN  \n",
              "2  [{'label': ['Skills'], 'points': [{'start': 37...     NaN  \n",
              "3  [{'label': ['Skills'], 'points': [{'start': 80...     NaN  \n",
              "4  [{'label': ['Degree'], 'points': [{'start': 20...     NaN  "
            ],
            "text/html": [
              "\n",
              "  <div id=\"df-a663ca68-a18e-4572-9021-cb63146a3a2d\">\n",
              "    <div class=\"colab-df-container\">\n",
              "      <div>\n",
              "<style scoped>\n",
              "    .dataframe tbody tr th:only-of-type {\n",
              "        vertical-align: middle;\n",
              "    }\n",
              "\n",
              "    .dataframe tbody tr th {\n",
              "        vertical-align: top;\n",
              "    }\n",
              "\n",
              "    .dataframe thead th {\n",
              "        text-align: right;\n",
              "    }\n",
              "</style>\n",
              "<table border=\"1\" class=\"dataframe\">\n",
              "  <thead>\n",
              "    <tr style=\"text-align: right;\">\n",
              "      <th></th>\n",
              "      <th>content</th>\n",
              "      <th>annotation</th>\n",
              "      <th>extras</th>\n",
              "    </tr>\n",
              "  </thead>\n",
              "  <tbody>\n",
              "    <tr>\n",
              "      <th>0</th>\n",
              "      <td>Abhishek Jha\\nApplication Development Associat...</td>\n",
              "      <td>[{'label': ['Skills'], 'points': [{'start': 12...</td>\n",
              "      <td>NaN</td>\n",
              "    </tr>\n",
              "    <tr>\n",
              "      <th>1</th>\n",
              "      <td>Afreen Jamadar\\nActive member of IIIT Committe...</td>\n",
              "      <td>[{'label': ['Email Address'], 'points': [{'sta...</td>\n",
              "      <td>NaN</td>\n",
              "    </tr>\n",
              "    <tr>\n",
              "      <th>2</th>\n",
              "      <td>Akhil Yadav Polemaina\\nHyderabad, Telangana - ...</td>\n",
              "      <td>[{'label': ['Skills'], 'points': [{'start': 37...</td>\n",
              "      <td>NaN</td>\n",
              "    </tr>\n",
              "    <tr>\n",
              "      <th>3</th>\n",
              "      <td>Alok Khandai\\nOperational Analyst (SQL DBA) En...</td>\n",
              "      <td>[{'label': ['Skills'], 'points': [{'start': 80...</td>\n",
              "      <td>NaN</td>\n",
              "    </tr>\n",
              "    <tr>\n",
              "      <th>4</th>\n",
              "      <td>Ananya Chavan\\nlecturer - oracle tutorials\\n\\n...</td>\n",
              "      <td>[{'label': ['Degree'], 'points': [{'start': 20...</td>\n",
              "      <td>NaN</td>\n",
              "    </tr>\n",
              "  </tbody>\n",
              "</table>\n",
              "</div>\n",
              "      <button class=\"colab-df-convert\" onclick=\"convertToInteractive('df-a663ca68-a18e-4572-9021-cb63146a3a2d')\"\n",
              "              title=\"Convert this dataframe to an interactive table.\"\n",
              "              style=\"display:none;\">\n",
              "        \n",
              "  <svg xmlns=\"http://www.w3.org/2000/svg\" height=\"24px\"viewBox=\"0 0 24 24\"\n",
              "       width=\"24px\">\n",
              "    <path d=\"M0 0h24v24H0V0z\" fill=\"none\"/>\n",
              "    <path d=\"M18.56 5.44l.94 2.06.94-2.06 2.06-.94-2.06-.94-.94-2.06-.94 2.06-2.06.94zm-11 1L8.5 8.5l.94-2.06 2.06-.94-2.06-.94L8.5 2.5l-.94 2.06-2.06.94zm10 10l.94 2.06.94-2.06 2.06-.94-2.06-.94-.94-2.06-.94 2.06-2.06.94z\"/><path d=\"M17.41 7.96l-1.37-1.37c-.4-.4-.92-.59-1.43-.59-.52 0-1.04.2-1.43.59L10.3 9.45l-7.72 7.72c-.78.78-.78 2.05 0 2.83L4 21.41c.39.39.9.59 1.41.59.51 0 1.02-.2 1.41-.59l7.78-7.78 2.81-2.81c.8-.78.8-2.07 0-2.86zM5.41 20L4 18.59l7.72-7.72 1.47 1.35L5.41 20z\"/>\n",
              "  </svg>\n",
              "      </button>\n",
              "      \n",
              "  <style>\n",
              "    .colab-df-container {\n",
              "      display:flex;\n",
              "      flex-wrap:wrap;\n",
              "      gap: 12px;\n",
              "    }\n",
              "\n",
              "    .colab-df-convert {\n",
              "      background-color: #E8F0FE;\n",
              "      border: none;\n",
              "      border-radius: 50%;\n",
              "      cursor: pointer;\n",
              "      display: none;\n",
              "      fill: #1967D2;\n",
              "      height: 32px;\n",
              "      padding: 0 0 0 0;\n",
              "      width: 32px;\n",
              "    }\n",
              "\n",
              "    .colab-df-convert:hover {\n",
              "      background-color: #E2EBFA;\n",
              "      box-shadow: 0px 1px 2px rgba(60, 64, 67, 0.3), 0px 1px 3px 1px rgba(60, 64, 67, 0.15);\n",
              "      fill: #174EA6;\n",
              "    }\n",
              "\n",
              "    [theme=dark] .colab-df-convert {\n",
              "      background-color: #3B4455;\n",
              "      fill: #D2E3FC;\n",
              "    }\n",
              "\n",
              "    [theme=dark] .colab-df-convert:hover {\n",
              "      background-color: #434B5C;\n",
              "      box-shadow: 0px 1px 3px 1px rgba(0, 0, 0, 0.15);\n",
              "      filter: drop-shadow(0px 1px 2px rgba(0, 0, 0, 0.3));\n",
              "      fill: #FFFFFF;\n",
              "    }\n",
              "  </style>\n",
              "\n",
              "      <script>\n",
              "        const buttonEl =\n",
              "          document.querySelector('#df-a663ca68-a18e-4572-9021-cb63146a3a2d button.colab-df-convert');\n",
              "        buttonEl.style.display =\n",
              "          google.colab.kernel.accessAllowed ? 'block' : 'none';\n",
              "\n",
              "        async function convertToInteractive(key) {\n",
              "          const element = document.querySelector('#df-a663ca68-a18e-4572-9021-cb63146a3a2d');\n",
              "          const dataTable =\n",
              "            await google.colab.kernel.invokeFunction('convertToInteractive',\n",
              "                                                     [key], {});\n",
              "          if (!dataTable) return;\n",
              "\n",
              "          const docLinkHtml = 'Like what you see? Visit the ' +\n",
              "            '<a target=\"_blank\" href=https://colab.research.google.com/notebooks/data_table.ipynb>data table notebook</a>'\n",
              "            + ' to learn more about interactive tables.';\n",
              "          element.innerHTML = '';\n",
              "          dataTable['output_type'] = 'display_data';\n",
              "          await google.colab.output.renderOutput(dataTable, element);\n",
              "          const docLink = document.createElement('div');\n",
              "          docLink.innerHTML = docLinkHtml;\n",
              "          element.appendChild(docLink);\n",
              "        }\n",
              "      </script>\n",
              "    </div>\n",
              "  </div>\n",
              "  "
            ]
          },
          "metadata": {},
          "execution_count": 4
        }
      ]
    },
    {
      "cell_type": "code",
      "source": [
        "df.tail()"
      ],
      "metadata": {
        "id": "xzhl-SJdS_oG",
        "colab": {
          "base_uri": "https://localhost:8080/",
          "height": 206
        },
        "outputId": "267f7329-fd65-4b52-9b1a-3b5e54708c40"
      },
      "execution_count": null,
      "outputs": [
        {
          "output_type": "execute_result",
          "data": {
            "text/plain": [
              "                                               content  \\\n",
              "215  Mansi Thanki\\nStudent\\n\\nJamnagar, Gujarat - E...   \n",
              "216  Anil Kumar\\nMicrosoft Azure (Basic Management)...   \n",
              "217  Siddharth Choudhary\\nMicrosoft Office Suite - ...   \n",
              "218  Valarmathi Dhandapani\\nInvestment Banking Oper...   \n",
              "219  Pradeep Kumar\\nSecurity Analyst in Infosys - C...   \n",
              "\n",
              "                                            annotation  extras  \n",
              "215  [{'label': ['College Name'], 'points': [{'star...     NaN  \n",
              "216  [{'label': ['Location'], 'points': [{'start': ...     NaN  \n",
              "217  [{'label': ['Skills'], 'points': [{'start': 78...     NaN  \n",
              "218  [{'label': ['Skills'], 'points': [{'start': 92...     NaN  \n",
              "219  [{'label': ['Skills'], 'points': [{'start': 58...     NaN  "
            ],
            "text/html": [
              "\n",
              "  <div id=\"df-c43a7613-0502-41e1-a37d-249cf9a35113\">\n",
              "    <div class=\"colab-df-container\">\n",
              "      <div>\n",
              "<style scoped>\n",
              "    .dataframe tbody tr th:only-of-type {\n",
              "        vertical-align: middle;\n",
              "    }\n",
              "\n",
              "    .dataframe tbody tr th {\n",
              "        vertical-align: top;\n",
              "    }\n",
              "\n",
              "    .dataframe thead th {\n",
              "        text-align: right;\n",
              "    }\n",
              "</style>\n",
              "<table border=\"1\" class=\"dataframe\">\n",
              "  <thead>\n",
              "    <tr style=\"text-align: right;\">\n",
              "      <th></th>\n",
              "      <th>content</th>\n",
              "      <th>annotation</th>\n",
              "      <th>extras</th>\n",
              "    </tr>\n",
              "  </thead>\n",
              "  <tbody>\n",
              "    <tr>\n",
              "      <th>215</th>\n",
              "      <td>Mansi Thanki\\nStudent\\n\\nJamnagar, Gujarat - E...</td>\n",
              "      <td>[{'label': ['College Name'], 'points': [{'star...</td>\n",
              "      <td>NaN</td>\n",
              "    </tr>\n",
              "    <tr>\n",
              "      <th>216</th>\n",
              "      <td>Anil Kumar\\nMicrosoft Azure (Basic Management)...</td>\n",
              "      <td>[{'label': ['Location'], 'points': [{'start': ...</td>\n",
              "      <td>NaN</td>\n",
              "    </tr>\n",
              "    <tr>\n",
              "      <th>217</th>\n",
              "      <td>Siddharth Choudhary\\nMicrosoft Office Suite - ...</td>\n",
              "      <td>[{'label': ['Skills'], 'points': [{'start': 78...</td>\n",
              "      <td>NaN</td>\n",
              "    </tr>\n",
              "    <tr>\n",
              "      <th>218</th>\n",
              "      <td>Valarmathi Dhandapani\\nInvestment Banking Oper...</td>\n",
              "      <td>[{'label': ['Skills'], 'points': [{'start': 92...</td>\n",
              "      <td>NaN</td>\n",
              "    </tr>\n",
              "    <tr>\n",
              "      <th>219</th>\n",
              "      <td>Pradeep Kumar\\nSecurity Analyst in Infosys - C...</td>\n",
              "      <td>[{'label': ['Skills'], 'points': [{'start': 58...</td>\n",
              "      <td>NaN</td>\n",
              "    </tr>\n",
              "  </tbody>\n",
              "</table>\n",
              "</div>\n",
              "      <button class=\"colab-df-convert\" onclick=\"convertToInteractive('df-c43a7613-0502-41e1-a37d-249cf9a35113')\"\n",
              "              title=\"Convert this dataframe to an interactive table.\"\n",
              "              style=\"display:none;\">\n",
              "        \n",
              "  <svg xmlns=\"http://www.w3.org/2000/svg\" height=\"24px\"viewBox=\"0 0 24 24\"\n",
              "       width=\"24px\">\n",
              "    <path d=\"M0 0h24v24H0V0z\" fill=\"none\"/>\n",
              "    <path d=\"M18.56 5.44l.94 2.06.94-2.06 2.06-.94-2.06-.94-.94-2.06-.94 2.06-2.06.94zm-11 1L8.5 8.5l.94-2.06 2.06-.94-2.06-.94L8.5 2.5l-.94 2.06-2.06.94zm10 10l.94 2.06.94-2.06 2.06-.94-2.06-.94-.94-2.06-.94 2.06-2.06.94z\"/><path d=\"M17.41 7.96l-1.37-1.37c-.4-.4-.92-.59-1.43-.59-.52 0-1.04.2-1.43.59L10.3 9.45l-7.72 7.72c-.78.78-.78 2.05 0 2.83L4 21.41c.39.39.9.59 1.41.59.51 0 1.02-.2 1.41-.59l7.78-7.78 2.81-2.81c.8-.78.8-2.07 0-2.86zM5.41 20L4 18.59l7.72-7.72 1.47 1.35L5.41 20z\"/>\n",
              "  </svg>\n",
              "      </button>\n",
              "      \n",
              "  <style>\n",
              "    .colab-df-container {\n",
              "      display:flex;\n",
              "      flex-wrap:wrap;\n",
              "      gap: 12px;\n",
              "    }\n",
              "\n",
              "    .colab-df-convert {\n",
              "      background-color: #E8F0FE;\n",
              "      border: none;\n",
              "      border-radius: 50%;\n",
              "      cursor: pointer;\n",
              "      display: none;\n",
              "      fill: #1967D2;\n",
              "      height: 32px;\n",
              "      padding: 0 0 0 0;\n",
              "      width: 32px;\n",
              "    }\n",
              "\n",
              "    .colab-df-convert:hover {\n",
              "      background-color: #E2EBFA;\n",
              "      box-shadow: 0px 1px 2px rgba(60, 64, 67, 0.3), 0px 1px 3px 1px rgba(60, 64, 67, 0.15);\n",
              "      fill: #174EA6;\n",
              "    }\n",
              "\n",
              "    [theme=dark] .colab-df-convert {\n",
              "      background-color: #3B4455;\n",
              "      fill: #D2E3FC;\n",
              "    }\n",
              "\n",
              "    [theme=dark] .colab-df-convert:hover {\n",
              "      background-color: #434B5C;\n",
              "      box-shadow: 0px 1px 3px 1px rgba(0, 0, 0, 0.15);\n",
              "      filter: drop-shadow(0px 1px 2px rgba(0, 0, 0, 0.3));\n",
              "      fill: #FFFFFF;\n",
              "    }\n",
              "  </style>\n",
              "\n",
              "      <script>\n",
              "        const buttonEl =\n",
              "          document.querySelector('#df-c43a7613-0502-41e1-a37d-249cf9a35113 button.colab-df-convert');\n",
              "        buttonEl.style.display =\n",
              "          google.colab.kernel.accessAllowed ? 'block' : 'none';\n",
              "\n",
              "        async function convertToInteractive(key) {\n",
              "          const element = document.querySelector('#df-c43a7613-0502-41e1-a37d-249cf9a35113');\n",
              "          const dataTable =\n",
              "            await google.colab.kernel.invokeFunction('convertToInteractive',\n",
              "                                                     [key], {});\n",
              "          if (!dataTable) return;\n",
              "\n",
              "          const docLinkHtml = 'Like what you see? Visit the ' +\n",
              "            '<a target=\"_blank\" href=https://colab.research.google.com/notebooks/data_table.ipynb>data table notebook</a>'\n",
              "            + ' to learn more about interactive tables.';\n",
              "          element.innerHTML = '';\n",
              "          dataTable['output_type'] = 'display_data';\n",
              "          await google.colab.output.renderOutput(dataTable, element);\n",
              "          const docLink = document.createElement('div');\n",
              "          docLink.innerHTML = docLinkHtml;\n",
              "          element.appendChild(docLink);\n",
              "        }\n",
              "      </script>\n",
              "    </div>\n",
              "  </div>\n",
              "  "
            ]
          },
          "metadata": {},
          "execution_count": 5
        }
      ]
    },
    {
      "cell_type": "markdown",
      "source": [
        "<h1>Preprocess Data</h1>"
      ],
      "metadata": {
        "id": "pZIsAH5jbXd7"
      }
    },
    {
      "cell_type": "code",
      "source": [
        "#A function to clean the dataset \n",
        "def cleanText(input):\n",
        "   df = input.replace('\\n',' ', regex=True) #Replace new lines with space\n",
        "   df = df.drop('extras', axis=1) #Drop the redundant column \n",
        "   df = df.sample(frac=1).reset_index(drop=True) #Shuffing the dataset index for trials \n",
        "   return df "
      ],
      "metadata": {
        "id": "q0EOloWC-zxv"
      },
      "execution_count": null,
      "outputs": []
    },
    {
      "cell_type": "code",
      "source": [
        "df = cleanText(df)"
      ],
      "metadata": {
        "id": "-aiCkSM327tX"
      },
      "execution_count": null,
      "outputs": []
    },
    {
      "cell_type": "code",
      "source": [
        "df['content']"
      ],
      "metadata": {
        "id": "mid-gI8p4iC9",
        "colab": {
          "base_uri": "https://localhost:8080/"
        },
        "outputId": "1271f1d1-e5f1-4217-d5d5-5cfd04390dcb"
      },
      "execution_count": null,
      "outputs": [
        {
          "output_type": "execute_result",
          "data": {
            "text/plain": [
              "0      Debasish Dasgupta Trainer-Finacle-Core Banking...\n",
              "1      Pratik Vaidya Pune, Maharashtra - Email me on ...\n",
              "2      Manisha Bharti Software Automation Engineer  P...\n",
              "3      kimaya sonawane Thane, Maharashtra - Email me ...\n",
              "4      Alok Khandai Operational Analyst (SQL DBA) Eng...\n",
              "                             ...                        \n",
              "215    Siddharth Choudhary Microsoft Office Suite - E...\n",
              "216    Mohini Gupta Server Support Engineer  Gurgaon,...\n",
              "217    Vikas Singh Chandigarh, Chandigarh - Email me ...\n",
              "218    Hartej Kathuria Data Analyst Intern - Oracle R...\n",
              "219    Kiran Kumar I Having 2.1 years of Experience i...\n",
              "Name: content, Length: 220, dtype: object"
            ]
          },
          "metadata": {},
          "execution_count": 8
        }
      ]
    },
    {
      "cell_type": "code",
      "source": [
        "df.isnull().values.any()"
      ],
      "metadata": {
        "id": "mk3tX8I65ocx",
        "colab": {
          "base_uri": "https://localhost:8080/"
        },
        "outputId": "d70250b6-4bc4-4e2f-ae8e-204c34d5539e"
      },
      "execution_count": null,
      "outputs": [
        {
          "output_type": "execute_result",
          "data": {
            "text/plain": [
              "False"
            ]
          },
          "metadata": {},
          "execution_count": 9
        }
      ]
    },
    {
      "cell_type": "code",
      "source": [
        "print(f'The dataset has a total of {len(df.index)} resumes')"
      ],
      "metadata": {
        "id": "nKQ5KnRq5qaS",
        "colab": {
          "base_uri": "https://localhost:8080/"
        },
        "outputId": "c1e24832-8ebe-440f-a39a-6564e5f55e80"
      },
      "execution_count": null,
      "outputs": [
        {
          "output_type": "stream",
          "name": "stdout",
          "text": [
            "The dataset has a total of 220 resumes\n"
          ]
        }
      ]
    },
    {
      "cell_type": "code",
      "source": [
        "#Printing the first resume in dataframe\n",
        "df['content'][0]"
      ],
      "metadata": {
        "id": "rzILV23n3iKn",
        "colab": {
          "base_uri": "https://localhost:8080/",
          "height": 105
        },
        "outputId": "6dfd8640-abb6-449d-e0b1-6a170c1d5955"
      },
      "execution_count": null,
      "outputs": [
        {
          "output_type": "execute_result",
          "data": {
            "text/plain": [
              "'Debasish Dasgupta Trainer-Finacle-Core Banking Solutions-Infosys - Onward eServices limited  Qasba, Bihar - Email me on Indeed: indeed.com/r/Debasish-Dasgupta/a20561e10f83ae3f  ✓ Worked as a faculty for Infosys in PTC ( Postal Training Centre) of DOP (Department of Post- India) ✓ Undertaken Classes for Banking Theory and practices. ✓ Trainer- Finacle Core Banking Solutions ✓ Maintaining client base of 20 Crores. ✓ Investment Banking ( H.N.I section) ✓ Admin and ATM manager (IT and branch) ✓ Management and smooth functioning of ATM network and administration. ✓ Implementation of Finacle10.2 in the branch level (Axis Bank) ✓ Successfully completed the task of Transition Supervisor in the migration from Finacle7 to Finacle 10.2. ✓ Over 4 years of rich experience in financial sector ✓ Ability to support and sustain a positive work environment that fosters team performance with strong communication and negotiation skills. ✓ Thorough understanding of cash management services involving bulk payments for large corporate and processing of cash and cheque collections from them. ✓ Thorough working knowledge Branch Banking &amp; routine banking operations. ✓ Possess excellent interpersonal, communication and organizational skills with demonstrated abilities in team management and customer relationship management. ✓ Developing Customer base for the Bank and be strong player in the growth of overall business  WORK EXPERIENCE  Trainer-Finacle-Core Banking Solutions-Infosys  Onward eServices limited -  Chennai, Tamil Nadu -  2014 to Present  Job Summary: Trainer in PTC (Postal Training centre) - Department of Post.  • Training clients about Finacle CBS menu opttions. • Training postal employees about the day to day banking practice. • Training postal employees about Finacle 10.2 implementation in the department. • Supervising in the migration from manual data entry to core banking application. • Training client about the package. • Migration of the system to new software.  Branch Manager  Rainbow Financial Services -  Kolkata, West Bengal -  2012 to April 2014  https://www.indeed.com/r/Debasish-Dasgupta/a20561e10f83ae3f?isid=rex-download&ikw=download-top&co=IN   Investment Banking- salt Lake- Kolkata) Job role: Branch Manager  Job Summary: • Cash flow management. • Providing trading solutions to all clients. • Providing working capital solutions to small scale and big firms. • Treasury management. • Worked as Financial Product consultant (H N I) • Responsibility to provide financial solution to the customers • Channelizing the liquidity of the customer to proper fund.  Asst Manager  AXIS Bank Ltd -  July 2007 to 2012  Jamshedpur_  Job Role: Admin and ATM coordinator of branch.  * Job summary: Admin (Branch &amp; IT) ➢ Implementation of Finacle 10.2 (banking software) in the region. ➢ Training the branch staffs In Finacle 10.2 module and supervising the transition period of every department from Finacle 7 to Finacle 10.2. at the time of migration. ➢ Fixed asset management through FAMS software in the region assigned to me. ➢ Responsible of procurement of new assets and stationery through e-shop software, sale and purchase of old assets through quotations from different vendors.  ➢ Space management of the branch level and 5\\'s implementation in the branch through proper coordination with the team. ➢ Attendance record management in the HR software. ➢ Maintenance of all important branch documents for e.g. personal HR file, govt. document maintained by all banks, all notices to be displayed in the branch. ➢ Attending security meetings with local authorities on fortnightly basis. ➢ Coordination with concurrent auditor and external auditor to ensure \"AAA\" ratings for the Branch through proper compliance in yearly audit. ➢ Decision making authority of all petty expenses on a branch level. ➢ IT related issues to be coordinated with the help desk (WIPRO) ➢ Software and hardware management of all the branches in the region ➢ Network logbook maintenance and record keeping of all the issues faced by the branches. ➢ Record management of all the branch data and to keep a back up of the same in the main server. ➢ Responsible of smooth functioning of the server and network through regular track keeping and ensuring all the service request or call lodged should attended within proper TAT. * Job summary: ATM Manager:  ♦ Before outsourcing and centralization of ATM\\'s ➢ Reconciliation of the all ATM\\'s manually and in software.    ➢ Member of Circle Audit Team for compliance in ATM reconciliation of other branches. ➢ Reversal of all excess and short cash issues of the ATM\\'s. ➢ Maintaining TAT for own bank and other bank customer disputes on a regular basis. ➢ Coordination of ATM team and local logistics &amp; courier for smooth functioning of ATM. ➢ Keeping track of cash replenishment of all ATM\\'s in the region. ➢ Getting approval and maintaining record of all ATM related expenditure. ➢ Procurement of new ATM machine through different vendors and also to decide new location of ATM site. ➢ Fortnight audit and verification of ATM\\'s and cash vaults ➢ Rent agreements of ATM\\'s and renewal of the same.  After outsourcing and centralization of ATM\\'s ➢ Handing over the reconciliation of all the ATM\\'s to the central ATM nodal cell at the time of centralization of ATM\\'s. ➢ Coordination with outsource agency for smooth and proper functioning of ATM\\'s under the branch and also coordinating in acquisition of new ATM site. ➢ Daily updating of all the details in the respective software. ➢ Coordination with local CRA agency for smooth cash replenishment of all ATM\\'s. ➢ Coordination with the central reconciliation team to solve own bank and other bank disputes within the given TAT.  * Having through knowledge on implementation of Finacle7 &amp; Finacle10.2 (Core Banking Solution Software developed by Infosys) * Head cashier for 2.5 years, serving ATM cash Requirement, Cash remittance to currency Chest and managing CDP (Cash delivery &amp; pick-up) by strictly following clean note policy. * Handled Cash Management Services. * Handled Front desk banking Operation for e.g. - D.D printing, cheque transfer, fixed deposit, Locker Facility, GBM challan. * Handling Customer Related Queries and KYC compliance and AML.  Key Learning\\'s • A complete training of Finacle 10.2 (Classroom and on the job) • A holistic experience of overall administration, logistics and operation of banking procedures to serve the HNI clients of the Bank and also to receive appreciation and acknowledgement from both the sides.  • Thorough knowledge of Audit Compliance.  Front Office Credit Coordinator  H.D.F.C. Ltd -  Kolkata, West Bengal -  September 2005 to June 2007  Kolkata  Key Result Areas across assignments:  Job Responsibilities: * Worked as Front Office Credit Coordinator.    * Preparation of Housing loan Sanction report. * Coordinating sales team and their sales promotional activities  Key Learning\\'s • Exposure to Housing Loan industry.  Financial Product consultant  I.C.I.C.I PRUDENTIAL LIFE INSURANCE -  Kolkata, West Bengal -  January 2004 to February 2005  H N I) • Responsibility to provide financial solution to the customers • Channelizing the liquidity of the customer to proper fund. • different industries. • Strong P.R build quality developed due to daily customer interaction. • Successfully completed 5 years of banking as an ATM manager and branch admin. • Many recognition from branch level and as well as circle level. • Proper migration and implementation of banking software from Finacle 7 to Finacle10.2. • Error free audit in Spam of 2.5 years as a Branch Main Cashier. • Achievements Of targets in Third party Products. • Managing complete branch operations with key focus on bottom line profitability by ensuring optimal utilization of available resources. • Implementation &amp; Achievement of 5S for the Branch.  EDUCATION  B.B.M  Andhra University  2003  Gulmohar High School -  Jamshedpur, Jharkhand  2000'"
            ],
            "application/vnd.google.colaboratory.intrinsic+json": {
              "type": "string"
            }
          },
          "metadata": {},
          "execution_count": 11
        }
      ]
    },
    {
      "cell_type": "code",
      "source": [
        "!pip install spacy"
      ],
      "metadata": {
        "id": "Z-yykzBbrokI",
        "colab": {
          "base_uri": "https://localhost:8080/"
        },
        "outputId": "92937741-75ee-4eaf-8a01-571f8ec6e18c"
      },
      "execution_count": null,
      "outputs": [
        {
          "output_type": "stream",
          "name": "stdout",
          "text": [
            "Requirement already satisfied: spacy in /usr/local/lib/python3.7/dist-packages (2.2.4)\n",
            "Requirement already satisfied: tqdm<5.0.0,>=4.38.0 in /usr/local/lib/python3.7/dist-packages (from spacy) (4.64.0)\n",
            "Requirement already satisfied: setuptools in /usr/local/lib/python3.7/dist-packages (from spacy) (57.4.0)\n",
            "Requirement already satisfied: numpy>=1.15.0 in /usr/local/lib/python3.7/dist-packages (from spacy) (1.21.6)\n",
            "Requirement already satisfied: thinc==7.4.0 in /usr/local/lib/python3.7/dist-packages (from spacy) (7.4.0)\n",
            "Requirement already satisfied: wasabi<1.1.0,>=0.4.0 in /usr/local/lib/python3.7/dist-packages (from spacy) (0.9.1)\n",
            "Requirement already satisfied: preshed<3.1.0,>=3.0.2 in /usr/local/lib/python3.7/dist-packages (from spacy) (3.0.6)\n",
            "Requirement already satisfied: catalogue<1.1.0,>=0.0.7 in /usr/local/lib/python3.7/dist-packages (from spacy) (1.0.0)\n",
            "Requirement already satisfied: requests<3.0.0,>=2.13.0 in /usr/local/lib/python3.7/dist-packages (from spacy) (2.23.0)\n",
            "Requirement already satisfied: murmurhash<1.1.0,>=0.28.0 in /usr/local/lib/python3.7/dist-packages (from spacy) (1.0.7)\n",
            "Requirement already satisfied: cymem<2.1.0,>=2.0.2 in /usr/local/lib/python3.7/dist-packages (from spacy) (2.0.6)\n",
            "Requirement already satisfied: plac<1.2.0,>=0.9.6 in /usr/local/lib/python3.7/dist-packages (from spacy) (1.1.3)\n",
            "Requirement already satisfied: srsly<1.1.0,>=1.0.2 in /usr/local/lib/python3.7/dist-packages (from spacy) (1.0.5)\n",
            "Requirement already satisfied: blis<0.5.0,>=0.4.0 in /usr/local/lib/python3.7/dist-packages (from spacy) (0.4.1)\n",
            "Requirement already satisfied: importlib-metadata>=0.20 in /usr/local/lib/python3.7/dist-packages (from catalogue<1.1.0,>=0.0.7->spacy) (4.11.3)\n",
            "Requirement already satisfied: typing-extensions>=3.6.4 in /usr/local/lib/python3.7/dist-packages (from importlib-metadata>=0.20->catalogue<1.1.0,>=0.0.7->spacy) (4.2.0)\n",
            "Requirement already satisfied: zipp>=0.5 in /usr/local/lib/python3.7/dist-packages (from importlib-metadata>=0.20->catalogue<1.1.0,>=0.0.7->spacy) (3.8.0)\n",
            "Requirement already satisfied: idna<3,>=2.5 in /usr/local/lib/python3.7/dist-packages (from requests<3.0.0,>=2.13.0->spacy) (2.10)\n",
            "Requirement already satisfied: chardet<4,>=3.0.2 in /usr/local/lib/python3.7/dist-packages (from requests<3.0.0,>=2.13.0->spacy) (3.0.4)\n",
            "Requirement already satisfied: certifi>=2017.4.17 in /usr/local/lib/python3.7/dist-packages (from requests<3.0.0,>=2.13.0->spacy) (2021.10.8)\n",
            "Requirement already satisfied: urllib3!=1.25.0,!=1.25.1,<1.26,>=1.21.1 in /usr/local/lib/python3.7/dist-packages (from requests<3.0.0,>=2.13.0->spacy) (1.24.3)\n"
          ]
        }
      ]
    },
    {
      "cell_type": "code",
      "source": [
        "def preprocessData(inputData):\n",
        "  #Restructuring the dataframe in spacy format\n",
        "  entities = []\n",
        "  for i in range(len(inputData.index)):\n",
        "    \n",
        "    toLabel = inputData['annotation'][i]\n",
        "    elist = []\n",
        "    \n",
        "    for j in range(len(toLabel)):\n",
        "    \n",
        "      label = toLabel[j]['label']\n",
        "      if len(label) > 0:\n",
        "        label = label[0]\n",
        "      start = toLabel[j]['points'][0]['start']\n",
        "      end = toLabel[j]['points'][0]['end']\n",
        "      elist = [*elist, tuple([start,end,label])]  \n",
        "      edict = {'entities':elist}\n",
        "    \n",
        "    entities.append(edict)\n",
        "  \n",
        "  return entities "
      ],
      "metadata": {
        "id": "WkSUIieWCqek"
      },
      "execution_count": null,
      "outputs": []
    },
    {
      "cell_type": "code",
      "source": [
        "entities = preprocessData(df)"
      ],
      "metadata": {
        "id": "aZ0alydpAJic"
      },
      "execution_count": null,
      "outputs": []
    },
    {
      "cell_type": "code",
      "source": [
        "sentences = df['content'].tolist()"
      ],
      "metadata": {
        "id": "Gw-T-RQJ73eJ"
      },
      "execution_count": null,
      "outputs": []
    },
    {
      "cell_type": "code",
      "source": [
        "#A portion of the dataframe after conversion \n",
        "entities[1]"
      ],
      "metadata": {
        "colab": {
          "base_uri": "https://localhost:8080/"
        },
        "id": "N01Fjud9aFtB",
        "outputId": "92c52455-4d32-4e34-ef7e-87e00cd69a41"
      },
      "execution_count": null,
      "outputs": [
        {
          "output_type": "execute_result",
          "data": {
            "text/plain": [
              "{'entities': [(1901, 1905, 'Skills'),\n",
              "  (1812, 1815, 'Graduation Year'),\n",
              "  (1763, 1797, 'College Name'),\n",
              "  (1756, 1760, 'Degree'),\n",
              "  (803, 806, 'Graduation Year'),\n",
              "  (653, 656, 'Graduation Year'),\n",
              "  (645, 648, 'Graduation Year'),\n",
              "  (469, 478, 'Companies worked at'),\n",
              "  (461, 466, 'Designation'),\n",
              "  (403, 406, 'Location'),\n",
              "  (54, 97, 'Email Address'),\n",
              "  (14, 17, 'Location'),\n",
              "  (0, 12, 'Name')]}"
            ]
          },
          "metadata": {},
          "execution_count": 32
        }
      ]
    },
    {
      "cell_type": "markdown",
      "source": [
        "<h1> Training the model </h1> "
      ],
      "metadata": {
        "id": "0diRnTqzbidE"
      }
    },
    {
      "cell_type": "code",
      "source": [
        "import spacy\n",
        "nlp = spacy.blank('en')\n",
        "def NER_model(sentences,entities,n): \n",
        " \n",
        "  #Creating the built-in pipline components \n",
        "  if 'ner' not in nlp.pipe_names:\n",
        "    ner = nlp.create_pipe('ner')\n",
        "    nlp.add_pipe(ner, last=True)\n",
        " \n",
        " \n",
        "  #Adding labels \n",
        "  for eachEntity in entities:\n",
        "    elist = eachEntity['entities']\n",
        "    for ent in range(len(elist)):\n",
        "      label = elist[ent][2]\n",
        "      label = str(label)\n",
        "      ner.add_label(label)\n",
        " \n",
        "  #Disable other pipes in training \n",
        "  other_pipelines = [pipe for pipe in nlp.pipe_names if pipe!='ner']\n",
        " \n",
        "  with nlp.disable_pipes(*other_pipelines):\n",
        "    #Train the model \n",
        "    optimizer = nlp.begin_training()\n",
        "    for i in range(n):\n",
        "      print(f\"Iteration {i}:\")\n",
        "      losses = {}\n",
        "      temp = 0\n",
        "\n",
        "      for temp in range(len(sentences)):\n",
        "        try:\n",
        "          nlp.update([sentences[temp]], [entities[temp]], drop = 0.2, sgd = optimizer, losses = losses )\n",
        "        except Exception as e:\n",
        "          pass\n",
        "      print('Loss: ' +str(losses))"
      ],
      "metadata": {
        "id": "Y1XVusWq93YT"
      },
      "execution_count": null,
      "outputs": []
    },
    {
      "cell_type": "code",
      "source": [
        "trainedData = NER_model(sentences,entities,10) "
      ],
      "metadata": {
        "id": "c1-E4MLr-W44",
        "colab": {
          "base_uri": "https://localhost:8080/"
        },
        "outputId": "6fe46b9c-05e7-49e6-e23b-b0c41ff2564e"
      },
      "execution_count": null,
      "outputs": [
        {
          "output_type": "stream",
          "name": "stdout",
          "text": [
            "Iteration 0:\n",
            "Loss: {'ner': 10771.07683084369}\n",
            "Iteration 1:\n",
            "Loss: {'ner': 12394.833622767888}\n",
            "Iteration 2:\n",
            "Loss: {'ner': 13346.55944420256}\n",
            "Iteration 3:\n",
            "Loss: {'ner': 10055.561846235418}\n",
            "Iteration 4:\n",
            "Loss: {'ner': 10536.417472127132}\n",
            "Iteration 5:\n",
            "Loss: {'ner': 9268.727689689495}\n",
            "Iteration 6:\n",
            "Loss: {'ner': 7263.374293092989}\n",
            "Iteration 7:\n",
            "Loss: {'ner': 6481.302725220139}\n",
            "Iteration 8:\n",
            "Loss: {'ner': 8506.186095533074}\n",
            "Iteration 9:\n",
            "Loss: {'ner': 8805.119950339247}\n"
          ]
        }
      ]
    },
    {
      "cell_type": "code",
      "source": [
        "#Saving and deploying the NER model \n",
        "nlp.to_disk('ner_model')\n",
        "ner_model = spacy.load('ner_model')\n",
        "print(\"The Model is now ready to use\")"
      ],
      "metadata": {
        "id": "9bp6RKm4GVG5",
        "colab": {
          "base_uri": "https://localhost:8080/"
        },
        "outputId": "261918ec-26d5-477e-d8e7-5c07240b66dd"
      },
      "execution_count": null,
      "outputs": [
        {
          "output_type": "stream",
          "name": "stdout",
          "text": [
            "The Model is now ready to use\n"
          ]
        }
      ]
    },
    {
      "cell_type": "code",
      "source": [
        "#Taking a look at the labels acknowledged by the NER model \n",
        "def extractEntities(model):\n",
        " enfound = list(model)\n",
        " enfound = [ele for ele in enfound if ele != '[]' if ele!='UNKNOWN']\n",
        " return enfound"
      ],
      "metadata": {
        "id": "8NmpDpXThVas"
      },
      "execution_count": null,
      "outputs": []
    },
    {
      "cell_type": "code",
      "source": [
        "size = len(extractEntities(ner_model.entity.labels))\n",
        "print(f'There were {size} entities found by the NER model, as follows: \\n')\n",
        "extractEntities(ner_model.entity.labels)"
      ],
      "metadata": {
        "colab": {
          "base_uri": "https://localhost:8080/"
        },
        "id": "oIXYx5YZsP36",
        "outputId": "8477f5d8-8c15-48a4-cf42-4d6c8130f9ea"
      },
      "execution_count": null,
      "outputs": [
        {
          "output_type": "stream",
          "name": "stdout",
          "text": [
            "There were 10 entities found by the NER model, as follows: \n",
            "\n"
          ]
        },
        {
          "output_type": "execute_result",
          "data": {
            "text/plain": [
              "['College Name',\n",
              " 'Companies worked at',\n",
              " 'Degree',\n",
              " 'Designation',\n",
              " 'Email Address',\n",
              " 'Graduation Year',\n",
              " 'Location',\n",
              " 'Name',\n",
              " 'Skills',\n",
              " 'Years of Experience']"
            ]
          },
          "metadata": {},
          "execution_count": 20
        }
      ]
    },
    {
      "cell_type": "markdown",
      "source": [
        "<h1> Testing the Model </h1>"
      ],
      "metadata": {
        "id": "W2cFZBTVbo_L"
      }
    },
    {
      "cell_type": "code",
      "source": [
        "import random \n",
        "#Randomly selecting one of the resumes in the dataframe \n",
        "index = random.randint(0, 220)\n",
        "testData = df['content'][index]"
      ],
      "metadata": {
        "id": "HU70kJCYEVC4"
      },
      "execution_count": null,
      "outputs": []
    },
    {
      "cell_type": "code",
      "source": [
        "testData "
      ],
      "metadata": {
        "id": "0zq6L26PF_yY",
        "colab": {
          "base_uri": "https://localhost:8080/",
          "height": 105
        },
        "outputId": "6d016753-bd50-4de6-c692-f87cc0f7d8aa"
      },
      "execution_count": null,
      "outputs": [
        {
          "output_type": "execute_result",
          "data": {
            "text/plain": [
              "'Rajeev Kumar Senior Associate Consultant - Infosys/Offshore Lead  Bengaluru, Karnataka - Email me on Indeed: indeed.com/r/Rajeev-Kumar/3f560fd91275495b  •An erudite professional with 2 years of IT/Presales/Project Management experience •Possess knowledge of Project Management, Digital/Social Media Marketing, Analytics, BI (Business Intelligence), presales, Business development, strategy and planning, etc. •Endowed with a passion for winning as exemplified through excellence in academic, extracurricular areas and organizational experience •An effective communicator with strong analytical/logical skills to relate to people at any level of business and management •Exposure in improving business performance by leveraging market insights to influence strategic and tactical plans that delivered differentiated offerings to customers •Possess problem solving capability keeping constraints in purview, innovation &amp; adaptability •A quick learner with the expertise to work under pressure and meet deadlines •Pleasing personality with a zest for life, knowledge and sound understanding of technology and the present world  Willing to relocate: Anywhere  WORK EXPERIENCE  Senior Associate Consultant  Infosys Limited -  Bangalore Urban, Karnataka -  July 2017 to Present  - Project Management Office (PMO)/Offshore Lead for a leading Global Oil &amp; Gas utility giant - Handling multiple service areas viz. risks and issues, planning and scheduling and assurance processes for all projects and engagements across the EMEA geography  Associate Consultant  Infosys -  Pune, Maharashtra -  May 2016 to June 2017  - Presales (Domain and Process Consulting) for Enterprise Asset Management (EAM) Supply Chain Domain - Pega Marketing and BPM (Business Process Management) team as a functional consultant - Problem Definition: Conduct secondary research that helps identify problem areas - Effort Estimation and preparing Deal Pricing with vendors to provide data points for proposal development - Solution Evaluation &amp; Recommendation: Understand solutions recommended and explore alternatives based on research (literature survey, information based in public domains etc.) -Requirement Analysis &amp; Detailing of Processes: Create requirement specifications from business needs. Define detailed functional, process, infrastructure based on requirements  https://www.indeed.com/r/Rajeev-Kumar/3f560fd91275495b?isid=rex-download&ikw=download-top&co=IN   - Development/Configuration: Configure and build the application, process solution in line with the design document - Issue Resolution: Understand the issue, diagnose the root cause and shortlist solution alternatives - Marketing &amp; Branding: Create marketing material in the form of case studies or solution documentation - Configure and assist in evaluating micro vertical/service/solution requirements on the products, documenting these in presentations and creating solution brochures  EDUCATION  PGDM in Marketing  Goa Institute of Management -  Goa  June 2014 to March 2016  B.Tech in Computer Science and Engineering  Uttar Pradesh Technical University -  Ghaziabad, Uttar Pradesh  July 2010 to April 2014  SKILLS  Adobe Photoshop (Less than 1 year), Ads (Less than 1 year), BI (1 year), Business Intelligence (1 year), MS Excel (2 years), presales (1 year), Tableau (1 year), Pega Marketing and BPM (Less than 1 year), MS Word (2 years), MS Powerpoint (2 years), MS Sharepoint (2 years), Spss (Less than 1 year), IBM Maximo (Less than 1 year), marketing strategy (2 years), Business Analysis (2 years), communication and soft skills (2 years), Project Management (2 years), Project Planning (2 years), Team Management (1 year)  LINKS  http://www.linkedin.com/in/rajeevkumar91  CERTIFICATIONS/LICENSES  Google Adwords  December 2016 to December 2017  Google Analytics  February 2017 to August 2018  HubSpot Inbound Marketing  Digital Vidya Certified Digital Marketer  http://www.linkedin.com/in/rajeevkumar91   ADDITIONAL INFORMATION  Soft Skills  Communicator, Innovator, Team Player, Analytical Collaborator. Intuitive  Technical Skills • Google AdWords, Google Analytics, Inbound Marketing, SEO (On-page and Off- page), SEM, Facebook Ads and Social •Project Management, MS Project Professional Media Campaigns (Content Bucketing) • Tableau, Microsoft Power BI, SPSS • MS Office Suite, Advanced Excel, MS SharePoint, Visio, Adobe Photoshop, Pega Marketing and BPM'"
            ],
            "application/vnd.google.colaboratory.intrinsic+json": {
              "type": "string"
            }
          },
          "metadata": {},
          "execution_count": 22
        }
      ]
    },
    {
      "cell_type": "code",
      "source": [
        "#Testing the above selected resume \n",
        "doc = ner_model(testData)\n",
        "for entity in doc.ents:\n",
        "  print(f\"{entity.label_.capitalize():{15}}:    {entity.text}\")"
      ],
      "metadata": {
        "id": "Eb1I72Z8GBeg",
        "colab": {
          "base_uri": "https://localhost:8080/"
        },
        "outputId": "91a6d177-fd97-4fcf-c0d0-6e14f2aadf42"
      },
      "execution_count": null,
      "outputs": [
        {
          "output_type": "stream",
          "name": "stdout",
          "text": [
            "Degree         :    PGDM in Marketing\n",
            "College name   :    Goa Institute\n",
            "Degree         :    B.Tech in Computer Science and Engineering\n",
            "Skills         :    Adobe Photoshop (Less than 1 year), Ads (Less than 1 year), BI (1 year), Business Intelligence (1 year), MS Excel (2 years), presales (1 year), Tableau (1 year), Pega Marketing and BPM (Less than 1 year), MS Word (2 years), MS Powerpoint (2 years), MS Sharepoint (2 years), Spss (Less than 1 year), IBM Maximo (Less than 1 year), marketing strategy (2 years), Business Analysis (2 years), communication and soft skills (2 years), Project Management (2 years), Project Planning (2 years), Team Management (1 year)  LINKS  http://www.linkedin.com/in/rajeevkumar91  CERTIFICATIONS/LICENSES  Google Adwords  December 2016 to December 2017  Google Analytics  February 2017 to August 2018  HubSpot Inbound Marketing  Digital Vidya Certified Digital Marketer  http://www.linkedin.com/in/rajeevkumar91   ADDITIONAL INFORMATION  Soft Skills  Communicator, Innovator, Team Player, Analytical Collaborator. Intuitive  Technical Skills • Google AdWords, Google Analytics, Inbound Marketing, SEO (On-page and Off- page), SEM, Facebook Ads and Social •Project Management, MS Project Professional Media Campaigns (Content Bucketing) • Tableau, Microsoft Power BI, SPSS • MS Office Suite, Advanced Excel, MS SharePoint, Visio, Adobe Photoshop, Pega Marketing and BPM\n"
          ]
        }
      ]
    },
    {
      "cell_type": "code",
      "source": [
        "!pip install PyMUpdf"
      ],
      "metadata": {
        "id": "k61qCG5ZIbFi",
        "colab": {
          "base_uri": "https://localhost:8080/"
        },
        "outputId": "36fbcf0f-f849-4381-99c6-53754fa07a06"
      },
      "execution_count": null,
      "outputs": [
        {
          "output_type": "stream",
          "name": "stdout",
          "text": [
            "Collecting PyMUpdf\n",
            "  Downloading PyMuPDF-1.19.6-cp37-cp37m-manylinux_2_17_x86_64.manylinux2014_x86_64.whl (8.8 MB)\n",
            "\u001b[K     |████████████████████████████████| 8.8 MB 6.2 MB/s \n",
            "\u001b[?25hInstalling collected packages: PyMUpdf\n",
            "Successfully installed PyMUpdf-1.19.6\n"
          ]
        }
      ]
    },
    {
      "cell_type": "code",
      "source": [
        "!pip install python-docx "
      ],
      "metadata": {
        "id": "DejpUuZ0SuZg",
        "colab": {
          "base_uri": "https://localhost:8080/"
        },
        "outputId": "8ae06b22-5e4d-48e7-8bc1-c0e9b335b9ee"
      },
      "execution_count": null,
      "outputs": [
        {
          "output_type": "stream",
          "name": "stdout",
          "text": [
            "Collecting python-docx\n",
            "  Downloading python-docx-0.8.11.tar.gz (5.6 MB)\n",
            "\u001b[K     |████████████████████████████████| 5.6 MB 8.3 MB/s \n",
            "\u001b[?25hRequirement already satisfied: lxml>=2.3.2 in /usr/local/lib/python3.7/dist-packages (from python-docx) (4.2.6)\n",
            "Building wheels for collected packages: python-docx\n",
            "  Building wheel for python-docx (setup.py) ... \u001b[?25l\u001b[?25hdone\n",
            "  Created wheel for python-docx: filename=python_docx-0.8.11-py3-none-any.whl size=184507 sha256=08b4e5f8cb465ee4328f39cdf4a8aedb860ec468cfbbb5896d8c35b220ba1993\n",
            "  Stored in directory: /root/.cache/pip/wheels/f6/6f/b9/d798122a8b55b74ad30b5f52b01482169b445fbb84a11797a6\n",
            "Successfully built python-docx\n",
            "Installing collected packages: python-docx\n",
            "Successfully installed python-docx-0.8.11\n"
          ]
        }
      ]
    },
    {
      "cell_type": "code",
      "source": [
        "import glob \n",
        "import fitz \n",
        "import docx \n",
        "\n",
        "#A function to recieve an input Resume in .pdf or .docx format\n",
        "def readResume(path):\n",
        "  if path.endswith('.pdf'):\n",
        "    resume = fitz.open(path)\n",
        "    text = \"\"\n",
        "    for page in resume:\n",
        "      text = text + str(page.get_text())\n",
        "    testResume = \" \".join(text.split('\\n'))\n",
        "    return testResume\n",
        "\n",
        "  elif path.endswith('.docx'):\n",
        "    resume = docx.Document(path)\n",
        "    text = \"\"\n",
        "    for page in resume.paragraphs:\n",
        "        text = text + page.text\n",
        "    testResume = \" \".join(text.split('\\n'))\n",
        "    return testResume\n",
        "\n",
        "  else: \n",
        "    print('No other file extensions supported')"
      ],
      "metadata": {
        "id": "h5im_44ORx4K"
      },
      "execution_count": null,
      "outputs": []
    },
    {
      "cell_type": "code",
      "source": [
        "testResume = readResume('/content/drive/My Drive/Test Resume2.pdf')"
      ],
      "metadata": {
        "id": "dxTMWj_AS2qd"
      },
      "execution_count": null,
      "outputs": []
    },
    {
      "cell_type": "code",
      "source": [
        "#Testing the Resume as fetched above\n",
        "doc = ner_model(testResume)\n",
        "for entity in doc.ents:\n",
        " print(f\"{entity.label_.capitalize():{15}}:    {entity.text}\")"
      ],
      "metadata": {
        "id": "VtGbZIGlJzWW",
        "colab": {
          "base_uri": "https://localhost:8080/"
        },
        "outputId": "22cc21fc-9328-4941-c01e-4152a6c3f3ee"
      },
      "execution_count": null,
      "outputs": [
        {
          "output_type": "stream",
          "name": "stdout",
          "text": [
            "Designation    :    Software Engineer\n",
            "Degree         :    Indian Institute of Technology – Mumbai  2001    SKILLS\n",
            "Skills         :    Machine Learning, Natural Language Processing, and Big Data Handling    ADDITIONAL INFORMATION  Professional Skills  • Excellent analytical, problem solving, communication, knowledge transfer and interpersonal  skills with ability to interact with individuals at all the levels  • Quick learner and maintains cordial relationship with project manager and team members and  good performer both in team and independent job environments  • Positive attitude towards superiors &amp; peers  • Supervised junior developers throughout project lifecycle and provided technical assistance\n"
          ]
        }
      ]
    }
  ]
}